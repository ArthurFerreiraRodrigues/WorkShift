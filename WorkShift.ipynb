{
 "cells": [
  {
   "cell_type": "markdown",
   "metadata": {},
   "source": [
    "# WorkShift \n",
    "Auto arranges a scheadule for work based on days of work and how long is the period of work.\n",
    "Creates a `.xlsx` file with all days distribuited accordingly to the user input."
   ]
  },
  {
   "cell_type": "markdown",
   "metadata": {},
   "source": [
    "## User Input"
   ]
  },
  {
   "cell_type": "code",
   "execution_count": null,
   "metadata": {},
   "outputs": [],
   "source": [
    "import calendar\n",
    "import pandas as pd\n",
    "\n",
    "year = int(input(\"Digite o Ano : \"))\n",
    "monthStart = int(input(\"Digite o Mês de Início : \"))\n",
    "monthFinish = int(input(\"Digite o Mês de Término : \"))\n",
    "totalTime = monthFinish - monthStart\n",
    "\n",
    "name = input(\"Nome do(s) Monitor(es) (Ex: Arthur,Ferreira) : \").split(\",\")\n",
    "quant = len(name)\n",
    "\n",
    "distDays = input(\"\\nDias da Semana a Serem Distribuídos \\n(Ex : 0,2,6 - Onde 0 é Segunda e 6 é Domingo) : \").split(\",\")\n",
    "distDays = list(map(int, distDays))"
   ]
  },
  {
   "cell_type": "markdown",
   "metadata": {},
   "source": [
    "## Initializing and filling Matrixes "
   ]
  },
  {
   "cell_type": "code",
   "execution_count": null,
   "metadata": {},
   "outputs": [],
   "source": [
    "# Initialize a tridimensional matrix -> [IdexOfName[DaysInTimeWindow[Day,month,year]]]\n",
    "work_shift = [[0 for j in range(\n",
    "    31*totalTime)] for i in range(quant)]\n",
    "\n",
    "inCharge = 0  # In charge of this especific day\n",
    "totalWorkLoad = [0 for i in range(quant)]  # Quantity of days registered / Name"
   ]
  },
  {
   "cell_type": "code",
   "execution_count": null,
   "metadata": {},
   "outputs": [],
   "source": [
    "for month in range(monthStart, monthFinish):\n",
    "    x, month_days = calendar.monthrange(year, month)\n",
    "    # for weekday->0,2,3 = Monday, Wednesday, Thursday\n",
    "    for day in range(1,month_days+1):\n",
    "        weekday = calendar.weekday(year, month, day)\n",
    "        if(weekday in distDays):\n",
    "            arr = [day,month,year]\n",
    "            calendar_day = '/'.join(str(x) for x in arr)\n",
    "\n",
    "            work_shift[inCharge][totalWorkLoad[inCharge]] = calendar_day\n",
    "            totalWorkLoad[inCharge] += 1\n",
    "            inCharge += 1\n",
    "            if(inCharge == quant):\n",
    "                inCharge = 0"
   ]
  },
  {
   "cell_type": "markdown",
   "metadata": {},
   "source": [
    "## Creating a New DataFrame"
   ]
  },
  {
   "cell_type": "code",
   "execution_count": null,
   "metadata": {},
   "outputs": [],
   "source": [
    "df = pd.DataFrame(work_shift[0])\n",
    "df = df.rename(columns= {0:name[0]})"
   ]
  },
  {
   "cell_type": "markdown",
   "metadata": {},
   "source": [
    "## Inserting all values to the DataFrame"
   ]
  },
  {
   "cell_type": "code",
   "execution_count": null,
   "metadata": {},
   "outputs": [],
   "source": [
    "for i in range(1,quant):\n",
    "    df.insert(loc=len(df.columns), column=name[i], value=work_shift[i])\n",
    "    \n",
    "df"
   ]
  },
  {
   "cell_type": "markdown",
   "metadata": {},
   "source": [
    "## Filtering all-zeroed rows"
   ]
  },
  {
   "cell_type": "code",
   "execution_count": null,
   "metadata": {},
   "outputs": [],
   "source": [
    "df = df.loc[(df!=0).any(1)]\n",
    "df"
   ]
  },
  {
   "cell_type": "markdown",
   "metadata": {},
   "source": [
    "## Exporting to excel"
   ]
  },
  {
   "cell_type": "code",
   "execution_count": null,
   "metadata": {},
   "outputs": [],
   "source": [
    "df.to_excel('data_frame.xlsx',sheet_name='Distribuition', header=True, index=False)"
   ]
  },
  {
   "cell_type": "markdown",
   "metadata": {},
   "source": [
    "## License"
   ]
  },
  {
   "cell_type": "markdown",
   "metadata": {},
   "source": [
    "[MIT License](https://choosealicense.com/licenses/mit/)\n",
    "Copyright (c) [2021] [Arthur Ferreira Rodrigues]\n",
    "\n",
    "Permission is hereby granted, free of charge, to any person obtaining a copy\n",
    "of this software and associated documentation files (the \"Software\"), to deal\n",
    "in the Software without restriction, including without limitation the rights\n",
    "to use, copy, modify, merge, publish, distribute, sublicense, and/or sell\n",
    "copies of the Software, and to permit persons to whom the Software is\n",
    "furnished to do so, subject to the following conditions:\n",
    "\n",
    "The above copyright notice and this permission notice shall be included in all\n",
    "copies or substantial portions of the Software.\n",
    "\n",
    "THE SOFTWARE IS PROVIDED \"AS IS\", WITHOUT WARRANTY OF ANY KIND, EXPRESS OR\n",
    "IMPLIED, INCLUDING BUT NOT LIMITED TO THE WARRANTIES OF MERCHANTABILITY,\n",
    "FITNESS FOR A PARTICULAR PURPOSE AND NONINFRINGEMENT. IN NO EVENT SHALL THE\n",
    "AUTHORS OR COPYRIGHT HOLDERS BE LIABLE FOR ANY CLAIM, DAMAGES OR OTHER\n",
    "LIABILITY, WHETHER IN AN ACTION OF CONTRACT, TORT OR OTHERWISE, ARISING FROM,\n",
    "OUT OF OR IN CONNECTION WITH THE SOFTWARE OR THE USE OR OTHER DEALINGS IN THE\n",
    "SOFTWARE."
   ]
  }
 ],
 "metadata": {
  "interpreter": {
   "hash": "b8480431bb365df6bcb1c44b7387c7b698c6b108659e761b6ab654603c809c5e"
  },
  "kernelspec": {
   "display_name": "Python 3.8.8 64-bit ('base': conda)",
   "name": "python3"
  },
  "language_info": {
   "codemirror_mode": {
    "name": "ipython",
    "version": 3
   },
   "file_extension": ".py",
   "mimetype": "text/x-python",
   "name": "python",
   "nbconvert_exporter": "python",
   "pygments_lexer": "ipython3",
   "version": "3.8.8"
  },
  "orig_nbformat": 4
 },
 "nbformat": 4,
 "nbformat_minor": 2
}
